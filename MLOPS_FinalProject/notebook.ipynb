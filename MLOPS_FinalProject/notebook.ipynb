{
 "cells": [
  {
   "cell_type": "code",
   "execution_count": null,
   "metadata": {},
   "outputs": [],
   "source": [
    "#Load Data\n",
    "from code.data_ingestion import load_csv_from_path\n",
    "\n",
    "train_file = \"/content/Train.csv\"\n",
    "test_file = \"/content/Test.csv\"\n",
    "valid_file = \"/content/Valid.csv\"\n",
    "\n",
    "train_data = load_csv_from_path(train_file)\n",
    "test_data = load_csv_from_path(test_file)\n",
    "valid_data = load_csv_from_path(valid_file)"
   ]
  },
  {
   "cell_type": "code",
   "execution_count": null,
   "metadata": {},
   "outputs": [],
   "source": [
    "#Clean Data \n",
    "from code.data_cleaning import clean_data\n",
    "\n",
    "train_cleaned = clean_data(train_data, \"text\")\n",
    "test_cleaned = clean_data(test_data, \"text\")\n",
    "valid_cleaned = clean_data(valid_data, \"text\")"
   ]
  },
  {
   "cell_type": "code",
   "execution_count": null,
   "metadata": {},
   "outputs": [],
   "source": [
    "#Analyze Data of Training Data \n",
    "from code.data_analysis import missing_value, value_count, skewness, plot_label_distribution, plot_word_frequencies, generate_word_cloud\n",
    "\n",
    "missing_value(train_cleaned)\n",
    "value_count(train_cleaned)\n",
    "skewness(train_cleaned)\n",
    "plot_label_distribution(train_cleaned['label'], title=\"Label Distribution\")\n",
    "plot_word_frequencies(train_data['cleaned_text'], top_n=20, title=\"Word Frequency Distribution\")\n",
    "generate_word_cloud(train_cleaned['cleaned_text'], title=\"Word Cloud\")"
   ]
  },
  {
   "cell_type": "code",
   "execution_count": null,
   "metadata": {},
   "outputs": [],
   "source": [
    "# Split the data into training and test sets\n",
    "X_train = train_cleaned['cleaned_text']\n",
    "y_train = train_cleaned['label']\n",
    "\n",
    "X_test = test_cleaned['cleaned_text']\n",
    "y_test = test_cleaned['label']"
   ]
  },
  {
   "cell_type": "code",
   "execution_count": null,
   "metadata": {},
   "outputs": [],
   "source": [
    "#Train and Evaluate Models\n",
    "from code.model_train_and_evaluate import train_naive_bayes, train_logistic_regression, train_SVM, train_knn\n",
    "best_model_naive_bayes, pipeline = train_naive_bayes(X_train, y_train, X_test, y_test)\n",
    "best_model_logistic_regression, pipeline = train_logistic_regression(X_train, y_train, X_test, y_test)\n",
    "best_model_SVM, pipeline = train_SVM(X_train, y_train, X_test, y_test)\n",
    "best_model_knn, pipeline = train_knn(X_train, y_train, X_test, y_test)"
   ]
  },
  {
   "cell_type": "code",
   "execution_count": null,
   "metadata": {},
   "outputs": [],
   "source": [
    "#Validate Best Model \n",
    "from code.model_test import test_naive_bayes\n",
    "\n",
    "test_naive_bayes(train_cleaned, best_model_naive_bayes)"
   ]
  }
 ],
 "metadata": {
  "kernelspec": {
   "display_name": "base",
   "language": "python",
   "name": "python3"
  },
  "language_info": {
   "name": "python",
   "version": "3.11.4"
  }
 },
 "nbformat": 4,
 "nbformat_minor": 2
}
